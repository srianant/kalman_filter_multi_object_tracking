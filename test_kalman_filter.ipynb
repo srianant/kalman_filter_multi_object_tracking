{
 "cells": [
  {
   "cell_type": "code",
   "execution_count": 19,
   "metadata": {},
   "outputs": [],
   "source": [
    "'''\n",
    "    File name         : tracker.py\n",
    "    File Description  : Tracker Using Kalman Filter & Hungarian Algorithm\n",
    "    Author            : Srini Ananthakrishnan\n",
    "    Date created      : 07/14/2017\n",
    "    Date last modified: 07/16/2017\n",
    "    Python Version    : 2.7\n",
    "'''\n",
    "\n",
    "# Import python libraries\n",
    "import numpy as np\n",
    "from scipy.optimize import linear_sum_assignment\n",
    "from cv2 import KalmanFilter\n",
    "\n",
    "\n",
    "class Track(object):\n",
    "    \"\"\"Track class for every object to be tracked\n",
    "    Attributes:\n",
    "        None\n",
    "    \"\"\"\n",
    "\n",
    "    def __init__(self, detection, trackIdCount):\n",
    "        \"\"\"Initialize variables used by Track class\n",
    "        Args:\n",
    "            prediction: predicted centroids of object to be tracked\n",
    "            trackIdCount: identification of each track object\n",
    "        Return:\n",
    "            None\n",
    "        \"\"\"\n",
    "        self.track_id = trackIdCount  # identification of each track object\n",
    "        self.KF = self.init_kalmanfilter(detection)  # KF instance to track this object\n",
    "\n",
    "        self.trace = []  # trace path\n",
    "\n",
    "    @staticmethod\n",
    "    def init_kalmanfilter(detection):\n",
    "        KF = KalmanFilter(4, 2)\n",
    "        dt = 1.0 / 30.0\n",
    "        KF.transitionMatrix = np.array([[1, 0, dt, 0],\n",
    "                                        [0, 1, 0, dt],\n",
    "                                        [0, 0, 1, 0],\n",
    "                                        [0, 0, 0, 1]]).astype(np.float32)\n",
    "        KF.processNoiseCov = np.diag([20, 20, 20, 20]).astype(np.float32) * dt\n",
    "\n",
    "        KF.statePost = np.array([[detection[0]],\n",
    "                                 [detection[1]],\n",
    "                                 [0],\n",
    "                                 [0]]).astype(np.float32)\n",
    "        KF.errorCovPost = np.diag([5, 5, 1000, 1000]).astype(np.float32)\n",
    "\n",
    "        KF.measurementMatrix = np.array([[1, 0, 0, 0],\n",
    "                                         [0, 1, 0, 0]]).astype(np.float32)\n",
    "        KF.measurementNoiseCov = np.eye(2).astype(np.float32)\n",
    "\n",
    "        KF.statePre = KF.statePost  # maybe necessary?\n",
    "        KF.errorCovPre = KF.errorCovPost\n",
    "        return KF\n",
    "\n",
    "    def predict(self):\n",
    "        x = self.KF.predict()\n",
    "        y = np.dot(self.KF.measurementMatrix, x)\n",
    "        return y\n",
    "\n",
    "    def correct(self, y):\n",
    "        self.KF.correct(np.array(y).astype(np.float32))\n",
    "        y = np.dot(self.KF.measurementMatrix, self.KF.statePost)\n",
    "        return y\n",
    "\n",
    "    def position_error(self):\n",
    "        return np.sqrt(self.KF.errorCovPost[0, 0] + self.KF.errorCovPost[1, 1])\n",
    "\n",
    "    def position(self):\n",
    "        y = np.dot(self.KF.measurementMatrix, self.KF.statePost)\n",
    "        return(y)\n",
    "\n",
    "\n",
    "class Tracker(object):\n",
    "    \"\"\"Tracker class that updates track vectors of object tracked\n",
    "    Attributes:\n",
    "        None\n",
    "    \"\"\"\n",
    "\n",
    "    def __init__(self, dist_thresh, max_position_error, max_trace_length,\n",
    "                 trackIdCount):\n",
    "        \"\"\"Initialize variable used by Tracker class\n",
    "        Args:\n",
    "            dist_thresh: distance threshold. When exceeds the threshold,\n",
    "                         track will be deleted and new track is created\n",
    "            max_frames_to_skip: maximum allowed frames to be skipped for\n",
    "                                the track object undetected\n",
    "            max_trace_lenght: trace path history length\n",
    "            trackIdCount: identification of each track object\n",
    "        Return:\n",
    "            None\n",
    "        \"\"\"\n",
    "        self.dist_thresh = dist_thresh\n",
    "        self.max_position_error = max_position_error\n",
    "        self.max_trace_length = max_trace_length\n",
    "        self.tracks = []\n",
    "        self.trackIdCount = trackIdCount\n",
    "\n",
    "    def Update(self, detections):\n",
    "        \"\"\"Update tracks vector using following steps:\n",
    "            - Create tracks if no tracks vector found\n",
    "            - Calculate cost using sum of square distance\n",
    "              between predicted vs detected centroids\n",
    "            - Using Hungarian Algorithm assign the correct\n",
    "              detected measurements to predicted tracks\n",
    "              https://en.wikipedia.org/wiki/Hungarian_algorithm\n",
    "            - Identify tracks with no assignment, if any\n",
    "            - If tracks are not detected for long time, remove them\n",
    "            - Now look for un_assigned detects\n",
    "            - Start new tracks\n",
    "            - Update KalmanFilter state, lastResults and tracks trace\n",
    "        Args:\n",
    "            detections: detected centroids of object to be tracked\n",
    "        Return:\n",
    "            None\n",
    "        \"\"\"\n",
    "\n",
    "        # Create tracks if no tracks vector found\n",
    "        if (len(self.tracks) == 0):\n",
    "            for i in range(len(detections)):\n",
    "                track = Track(detections[i], self.trackIdCount)\n",
    "                self.trackIdCount += 1\n",
    "                self.tracks.append(track)\n",
    "\n",
    "        # Calculate cost using sum of square distance between\n",
    "        # predicted vs detected centroids\n",
    "        N = len(self.tracks)\n",
    "        M = len(detections)\n",
    "        cost = np.zeros(shape=(N, M))   # Cost matrix\n",
    "        for i in range(len(self.tracks)):\n",
    "            for j in range(len(detections)):\n",
    "                diff = self.tracks[i].position() - detections[j]\n",
    "                distance = np.sqrt(diff[0][0]**2 +\n",
    "                                   diff[1][0]**2)\n",
    "                cost[i][j] = distance\n",
    "\n",
    "        # Let's average the squared ERROR\n",
    "        cost = (0.5) * cost\n",
    "        # Using Hungarian Algorithm assign the correct detected measurements\n",
    "        # to predicted tracks\n",
    "        assignment = []\n",
    "        for _ in range(N):\n",
    "            assignment.append(-1)\n",
    "        row_ind, col_ind = linear_sum_assignment(cost)\n",
    "        for i in range(len(row_ind)):\n",
    "            assignment[row_ind[i]] = col_ind[i]\n",
    "\n",
    "        # Identify tracks with no assignment, if any\n",
    "        un_assigned_tracks = []\n",
    "        for i in range(len(assignment)):\n",
    "            if (assignment[i] != -1 and cost[i][assignment[i]] > self.dist_thresh):\n",
    "                # check for cost distance threshold.\n",
    "                # If cost is very high then un_assign (delete) the track\n",
    "                assignment[i] = -1\n",
    "                un_assigned_tracks.append(i)\n",
    "\n",
    "        # If tracks are not detected for long time, remove them\n",
    "        del_tracks = []\n",
    "        for i in range(len(self.tracks)):\n",
    "            if (self.tracks[i].position_error() > self.max_position_error):\n",
    "                del_tracks.append(i)\n",
    "\n",
    "        for id in np.flipud(del_tracks):  # only when skipped frame exceeds max\n",
    "            if id < len(self.tracks):\n",
    "                del self.tracks[id]\n",
    "                del assignment[id]\n",
    "            else:\n",
    "                print(\"ERROR: id is greater than length of tracks\")\n",
    "\n",
    "        # Now look for un_assigned detects\n",
    "        un_assigned_detects = []\n",
    "        for i in range(len(detections)):\n",
    "            if i not in assignment:\n",
    "                un_assigned_detects.append(i)\n",
    "\n",
    "        # Start new tracks\n",
    "        for id in un_assigned_detects:\n",
    "            track = Track(detections[id], self.trackIdCount)\n",
    "            self.trackIdCount += 1\n",
    "            self.tracks.append(track)\n",
    "\n",
    "        # Update KalmanFilter state, lastResults and tracks trace\n",
    "        for i in range(len(assignment)):\n",
    "            self.tracks[i].predict()\n",
    "\n",
    "            if(assignment[i] != -1):\n",
    "                self.tracks[i].correct(detections[assignment[i]])\n",
    "\n",
    "            if(len(self.tracks[i].trace) > self.max_trace_length):\n",
    "                del self.tracks[i].trace[0]\n",
    "\n",
    "            self.tracks[i].trace.append(self.tracks[i].position())\n"
   ]
  },
  {
   "cell_type": "markdown",
   "metadata": {},
   "source": [
    "What happens to the error covariance after sucessive prediction calls"
   ]
  },
  {
   "cell_type": "code",
   "execution_count": 1,
   "metadata": {},
   "outputs": [
    {
     "name": "stdout",
     "output_type": "stream",
     "text": [
      "[[  5.   0.   0.   0.]\n",
      " [  0.   5.   0.   0.]\n",
      " [  0.   0. 100.   0.]\n",
      " [  0.   0.   0. 100.]]\n",
      "[[  5.7777777   0.          3.3333335   0.       ]\n",
      " [  0.          5.7777777   0.          3.3333335]\n",
      " [  3.3333335   0.        101.666664    0.       ]\n",
      " [  0.          3.3333335   0.        101.666664 ]]\n",
      "[[  0.852459     0.           0.49180332   0.        ]\n",
      " [  0.           0.852459     0.           0.49180332]\n",
      " [  0.49180326   0.         100.02732      0.        ]\n",
      " [  0.           0.49180326   0.         100.02732   ]]\n"
     ]
    }
   ],
   "source": [
    "from tracker import *\n",
    "\n",
    "t = Track([0, 0], 1)\n",
    "print(t.KF.errorCovPost)\n",
    "t.predict()\n",
    "print(t.KF.errorCovPost)\n",
    "t.correct([1, 0])\n",
    "print(t.KF.errorCovPost)"
   ]
  },
  {
   "cell_type": "markdown",
   "metadata": {},
   "source": [
    "Now consider 2 calls to predict"
   ]
  },
  {
   "cell_type": "code",
   "execution_count": 21,
   "metadata": {},
   "outputs": [
    {
     "name": "stdout",
     "output_type": "stream",
     "text": [
      "[[  10.778519    0.         66.68889     0.      ]\n",
      " [   0.         10.778519    0.         66.68889 ]\n",
      " [  66.688896    0.       1001.3334      0.      ]\n",
      " [   0.         66.688896    0.       1001.3334  ]]\n",
      "[[  0.9150997   0.          5.661908    0.       ]\n",
      " [  0.          0.9150997   0.          5.661908 ]\n",
      " [  5.6619134   0.        623.747       0.       ]\n",
      " [  0.          5.6619134   0.        623.747    ]]\n"
     ]
    }
   ],
   "source": [
    "t = Track([0, 0], 1)\n",
    "t.predict()\n",
    "t.predict()\n",
    "print(t.KF.errorCovPost)\n",
    "t.correct([1, 0])\n",
    "print(t.KF.errorCovPost)"
   ]
  },
  {
   "cell_type": "code",
   "execution_count": 83,
   "metadata": {},
   "outputs": [
    {
     "data": {
      "image/png": "[encoded data removed]",
      "text/plain": [
       "<matplotlib.figure.Figure at 0x7fc658c019d0>"
      ]
     },
     "metadata": {},
     "output_type": "display_data"
    }
   ],
   "source": [
    "import matplotlib.pyplot as plt\n",
    "dt = 1.0 / 30.0\n",
    "\n",
    "t1 = Track([0, 0], 1)\n",
    "t1.KF.errorCovPost = np.diag([5, 5, 500, 500]).astype(np.float32)\n",
    "t1.KF.errorCovPre = t1.KF.errorCovPost\n",
    "t1.KF.processNoiseCov = np.diag([20, 20, 50, 50]).astype(np.float32) * dt\n",
    "\n",
    "t2 = Track([0, 0], 2)\n",
    "t2.KF.errorCovPost = np.diag([5, 5, 5, 5]).astype(np.float32)\n",
    "t2.KF.errorCovPre = t2.KF.errorCovPost\n",
    "t2.KF.processNoiseCov = np.diag([20, 20, 50, 50]).astype(np.float32) * dt\n",
    "\n",
    "x1 = np.zeros((30, 4))\n",
    "x2 = np.zeros((30, 4))\n",
    "for i in range(len(x)):\n",
    "    t1.correct([0.1 * (i ** 1), 0])\n",
    "    x1[i] = t1.KF.predict().reshape((1, -1))\n",
    "    t2.correct([0.1 * (i ** 1), 0])\n",
    "    x2[i] = t2.KF.predict().reshape((1, -1))\n",
    "\n",
    "plt.plot(x1[:,2], '.-')\n",
    "plt.plot(x2[:,2], '.-')\n",
    "plt.grid()\n",
    "plt.show()"
   ]
  },
  {
   "cell_type": "code",
   "execution_count": 4,
   "metadata": {},
   "outputs": [
    {
     "data": {
      "image/png": "[encoded data removed]",
      "text/plain": [
       "<matplotlib.figure.Figure at 0x7f75b2351110>"
      ]
     },
     "metadata": {},
     "output_type": "display_data"
    }
   ],
   "source": [
    "import matplotlib.pyplot as plt\n",
    "dt = 1.0 / 30.0\n",
    "\n",
    "t1 = Track([0, 0], 1)\n",
    "t1.KF.errorCovPost = np.diag([3, 3, 30, 30]).astype(np.float32) ** 2\n",
    "t1.KF.errorCovPre = t1.KF.errorCovPost\n",
    "\n",
    "t1.KF.processNoiseCov = (np.diag([2, 2, 10, 10]).astype(np.float32) ** 2) * dt\n",
    "t1.KF.measurementNoiseCov = (np.eye(2).astype(np.float32) * 2) ** 2\n",
    "\n",
    "x1 = np.zeros((50, 4))\n",
    "P = np.zeros((50, 4))\n",
    "for i in range(len(x1)):\n",
    "    P[i] = np.diag(t1.KF.errorCovPre)\n",
    "    if i < 25:\n",
    "        t1.correct([0.1 * (i ** 1), 0])\n",
    "    x1[i] = t1.KF.predict().reshape((1, -1))\n",
    "    \n",
    "c = 0  # channel\n",
    "f = 1  # std divider factor (for viz)\n",
    "plt.plot(x1[:,c], '.-')\n",
    "plt.plot(x1[:,c] + P[:,c] * f, '--')\n",
    "plt.plot(x1[:,c] - P[:,c] * f, '--')\n",
    "plt.grid()\n",
    "plt.show()"
   ]
  },
  {
   "cell_type": "code",
   "execution_count": 56,
   "metadata": {},
   "outputs": [
    {
     "data": {
      "text/plain": [
       "10"
      ]
     },
     "execution_count": 56,
     "metadata": {},
     "output_type": "execute_result"
    }
   ],
   "source": [
    "len(x)"
   ]
  },
  {
   "cell_type": "code",
   "execution_count": 31,
   "metadata": {},
   "outputs": [
    {
     "data": {
      "text/plain": [
       "3.0"
      ]
     },
     "execution_count": 31,
     "metadata": {},
     "output_type": "execute_result"
    }
   ],
   "source": [
    "0.1 * 30"
   ]
  }
 ],
 "metadata": {
  "kernelspec": {
   "display_name": "Python 2",
   "language": "python",
   "name": "python2"
  },
  "language_info": {
   "codemirror_mode": {
    "name": "ipython",
    "version": 2
   },
   "file_extension": ".py",
   "mimetype": "text/x-python",
   "name": "python",
   "nbconvert_exporter": "python",
   "pygments_lexer": "ipython2",
   "version": "2.7.14"
  }
 },
 "nbformat": 4,
 "nbformat_minor": 2
}
